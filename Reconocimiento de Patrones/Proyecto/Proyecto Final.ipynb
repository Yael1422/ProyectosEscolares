{
 "cells": [
  {
   "cell_type": "code",
   "execution_count": 40,
   "id": "a728aee1",
   "metadata": {},
   "outputs": [],
   "source": [
    "import pydicom as dicom\n",
    "import matplotlib.pylab as plt\n",
    "import os\n",
    "import re\n",
    "import numpy as np\n",
    "import pandas as pd\n",
    "from sklearn.naive_bayes import GaussianNB\n",
    "from PIL import Image, ImageFilter\n",
    "import PIL"
   ]
  },
  {
   "cell_type": "code",
   "execution_count": 47,
   "id": "37fb9f4a",
   "metadata": {},
   "outputs": [],
   "source": [
    "image_path = 'ImagenesBuenas\\\\'\n",
    "image_save_path = 'img_filter\\\\'\n",
    "#Abrir archivo de imagen\n",
    "def abrirImagen(img):s\n",
    "    return Image.open(image_save_path+img) #Se abre la imagen con la bilbioteca PIL\n",
    "\n",
    "#Redimensinar imagen de 3D a 2D\n",
    "def redimensionarImagen(arr):\n",
    "    arr = arr.reshape((arr.shape[0]*arr.shape[1],arr.shape[2])) #Converimos la matriz de 3D a 2D (col*row,canal)\n",
    "    arr = arr[~np.all(arr == 0, axis=1)] # Se eliminan todos los 0's de la matriz\n",
    "    arr = np.delete(arr ,np.where((arr[:,3] != 255))[0], axis=0) #Eliminamos el canal alfa de la imagen\n",
    "    return arr #Regresamos la imagen a 2D sin canal alfa"
   ]
  },
  {
   "cell_type": "code",
   "execution_count": 32,
   "id": "91d3681a",
   "metadata": {},
   "outputs": [],
   "source": [
    "for i in range(16):    #For para recorrer las 16 imagenes\n",
    "    ds = dicom.dcmread(image_path + 'imagen' + str(i+1) + '.dcm')    #Lectura de imagen formato dcm\n",
    "    image = ds.pixel_array\n",
    "    plt.imsave(image_save_path + 'imagen'+ str(i+1) +'.jpg',image,cmap=plt.cm.gray) #Cambiamos a escala de grises y a formato jpg"
   ]
  },
  {
   "cell_type": "code",
   "execution_count": 60,
   "id": "851d0d96",
   "metadata": {},
   "outputs": [],
   "source": [
    "def crearFeature(nombre,clase): #Creando data frame por cada clase\n",
    "    imagenes = os.listdir('img_filter\\\\') #Obtener los nombres del ls archivos en la carpeta comida\n",
    "    arr_mask = np.array([[]]) #Crear un arreglo vacio donde guardamos toda la información de las mascaras\n",
    "    arr_mask = np.resize(arr_mask,(0,3)) #Redimensinar el arreglo para que tenga las columnas R G B\n",
    "\n",
    "    for mask in imagenes: #Iterar sobre las imagenes\n",
    "        if re.match(r\"^\"+nombre,mask):  # Condicional para buscar imagenes con el nombre de las mascara dada\n",
    "            imagen = abrirImagen(mask)  # Abrir la imagen de la mascara\n",
    "            imagen = np.array(imagen) # Convertir la imagen en un arreglo \n",
    "            imagen = redimensionarImagen(imagen) # Redimensionar la imagen para tener las columnas R G B\n",
    "            imagen = np.delete(imagen,3,1) # Eliminar la ultima columna del arreglo (canal alpha)\n",
    "            arr_mask = np.concatenate((arr_mask, imagen), axis=0) #Concatenar los arreglos \n",
    "\n",
    "    df = pd.DataFrame(arr_mask,columns=[\"R\",\"G\",\"B\"]) # Convertir el arreglo en un Data Frame\n",
    "    df[\"Clase\"] = clase # Poner nombre de la clase al data frame\n",
    "    return df #Regresar el data frame"
   ]
  },
  {
   "cell_type": "code",
   "execution_count": 86,
   "id": "9bf0b559",
   "metadata": {},
   "outputs": [],
   "source": [
    "def clasificador_skitlearn(df_train,test):\n",
    "    y_train = df_train[\"Clase\"] # Crear data frame Y de entrenamiendo (Salidas)\n",
    "    x_train = df_train.drop(\"Clase\", axis = 1) # Crear data frame X de entrenamiendo (Entradas)\n",
    "    df_test = pd.DataFrame(test,columns=[\"R\",\"G\",\"B\"]) # Crear data frame de prueba\n",
    "\n",
    "    clf = GaussianNB() # Clasificador de bayes\n",
    "    clf.fit(x_train, y_train) # Entrar modelo de datos de entrenamiento\n",
    "    SkTest = clf.predict(df_test) # Predecir con los datos de prueba\n",
    "\n",
    "    r = pd.DataFrame(SkTest,columns=[\"Clase\"]) # Crear data frame apartir de los datos de prueba\n",
    "\n",
    "    conditions = [(r[\"Clase\"] == \"0\"),   \n",
    "                    (r[\"Clase\"] == \"1\"),\n",
    "                    (r[\"Clase\"] == \"2\"),\n",
    "                    (r[\"Clase\"] == \"3\")\n",
    "                   ] # Condiciones para asignar un valor dependiendo de la clase \n",
    "\n",
    "    values = [242,175,81,0] #Valores (colores) que se asignan dependiendo de la clase\n",
    "    r[\"R\"] = np.select(conditions, values) # Agregar la columna R al data frame de salida\n",
    "    r[\"G\"] = np.select(conditions, values) # Agregar la columna G al data frame de salida\n",
    "    r[\"B\"] = np.select(conditions, values) # Agregar la columna B al data frame de salida\n",
    "\n",
    "    r = r.drop(\"Clase\", axis = 1) # Eliminar la columna de clase\n",
    "\n",
    "    arr = r.to_numpy() # Convertir el data frame en un arrglo\n",
    "    arr = arr.reshape(767,803,3) # Redimensionar el arreglo como formato de imagen para poder desplegarla\n",
    "    arr = Image.fromarray(arr.astype(np.uint8)) # Converir el arreglo a una imagen dado un arreglo\n",
    "    print(\"---  Imagen creada con el clasificador bayesiano de SKlearn--- \")\n",
    "    display(arr) # Mostrar la imgen creada con el clasificador bayesiano"
   ]
  },
  {
   "cell_type": "code",
   "execution_count": 90,
   "id": "56153e66",
   "metadata": {},
   "outputs": [],
   "source": [
    "# Ejemplo con muchos datos de las mascaras\n",
    "df_izq = crearFeature(\"mask_izq\",\"0\") #Data frame de datos para la clase de ventriculo izquierdo\n",
    "df_der = crearFeature(\"mask_der\",\"1\") #Data frame de datos para la clase de ventriculo derecho\n",
    "df_pared = crearFeature(\"mask_pared\",\"2\") #Data frame de datos para la clase de la pared\n",
    "df_fondo = crearFeature(\"mask_fondo\",\"3\") #Data frame de datos para la clase de Fondo\n",
    "\n",
    "df_train = pd.concat([df_izq,df_der,df_pared,df_fondo]) #Unir todos los dataframes y crear el data frame de entrenamiento"
   ]
  },
  {
   "cell_type": "code",
   "execution_count": 91,
   "id": "6a4d8413",
   "metadata": {
    "scrolled": false
   },
   "outputs": [
    {
     "name": "stdout",
     "output_type": "stream",
     "text": [
      "---  Imagen creada con el clasificador bayesiano de SKlearn--- \n"
     ]
    },
    {
     "data": {
      "image/png": "[encoded data removed]",
      "text/plain": [
       "<PIL.Image.Image image mode=RGB size=803x767>"
      ]
     },
     "metadata": {},
     "output_type": "display_data"
    }
   ],
   "source": [
    "test = abrirImagen(\"imagen7.jpg\") #Abrir la imagen de prueba\n",
    "test = np.array(test) #Convertir la imagen a un arreglo\n",
    "test = np.reshape(test, (-1, 3)) #Redimensior el arreglo para tener Cols Rows Canal \n",
    "\n",
    "clasificador_skitlearn(df_train,test) # Inicar prueba"
   ]
  },
  {
   "cell_type": "code",
   "execution_count": null,
   "id": "e2681795",
   "metadata": {},
   "outputs": [],
   "source": []
  }
 ],
 "metadata": {
  "kernelspec": {
   "display_name": "Python 3 (ipykernel)",
   "language": "python",
   "name": "python3"
  },
  "language_info": {
   "codemirror_mode": {
    "name": "ipython",
    "version": 3
   },
   "file_extension": ".py",
   "mimetype": "text/x-python",
   "name": "python",
   "nbconvert_exporter": "python",
   "pygments_lexer": "ipython3",
   "version": "3.9.13"
  }
 },
 "nbformat": 4,
 "nbformat_minor": 5
}
