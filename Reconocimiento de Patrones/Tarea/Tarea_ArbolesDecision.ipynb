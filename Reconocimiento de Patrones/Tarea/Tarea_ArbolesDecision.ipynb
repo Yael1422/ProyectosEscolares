{
 "cells": [
  {
   "cell_type": "markdown",
   "id": "018cf611",
   "metadata": {},
   "source": [
    "# **Tarea: Árboles de decisión**\n",
    "\n",
    "Nombre: Puente López Gandhi Yael"
   ]
  },
  {
   "cell_type": "markdown",
   "id": "6b0c6dfb",
   "metadata": {},
   "source": [
    "*Adición de bibliotecas para el funcionamiento*"
   ]
  },
  {
   "cell_type": "code",
   "execution_count": 1,
   "id": "42e7f5be",
   "metadata": {},
   "outputs": [],
   "source": [
    "import pandas as pd\n",
    "from sklearn import tree\n",
    "from sklearn.model_selection import train_test_split\n",
    "from sklearn.metrics import accuracy_score\n",
    "from matplotlib import pyplot as plt"
   ]
  },
  {
   "cell_type": "markdown",
   "id": "8fd8b81a",
   "metadata": {},
   "source": [
    "#### **DIABETES**"
   ]
  },
  {
   "cell_type": "markdown",
   "id": "6b36302b",
   "metadata": {},
   "source": [
    "* Creación del objeto para el manejo de la data"
   ]
  },
  {
   "cell_type": "code",
   "execution_count": 2,
   "id": "960a6fde",
   "metadata": {},
   "outputs": [
    {
     "data": {
      "text/html": [
       "<div>\n",
       "<style scoped>\n",
       "    .dataframe tbody tr th:only-of-type {\n",
       "        vertical-align: middle;\n",
       "    }\n",
       "\n",
       "    .dataframe tbody tr th {\n",
       "        vertical-align: top;\n",
       "    }\n",
       "\n",
       "    .dataframe thead th {\n",
       "        text-align: right;\n",
       "    }\n",
       "</style>\n",
       "<table border=\"1\" class=\"dataframe\">\n",
       "  <thead>\n",
       "    <tr style=\"text-align: right;\">\n",
       "      <th></th>\n",
       "      <th>preg</th>\n",
       "      <th>plas</th>\n",
       "      <th>pres</th>\n",
       "      <th>skin</th>\n",
       "      <th>insu</th>\n",
       "      <th>mass</th>\n",
       "      <th>pedi</th>\n",
       "      <th>age</th>\n",
       "      <th>class</th>\n",
       "    </tr>\n",
       "  </thead>\n",
       "  <tbody>\n",
       "    <tr>\n",
       "      <th>0</th>\n",
       "      <td>6</td>\n",
       "      <td>148</td>\n",
       "      <td>72</td>\n",
       "      <td>35</td>\n",
       "      <td>0</td>\n",
       "      <td>33.6</td>\n",
       "      <td>0.627</td>\n",
       "      <td>50</td>\n",
       "      <td>tested_positive</td>\n",
       "    </tr>\n",
       "    <tr>\n",
       "      <th>1</th>\n",
       "      <td>1</td>\n",
       "      <td>85</td>\n",
       "      <td>66</td>\n",
       "      <td>29</td>\n",
       "      <td>0</td>\n",
       "      <td>26.6</td>\n",
       "      <td>0.351</td>\n",
       "      <td>31</td>\n",
       "      <td>tested_negative</td>\n",
       "    </tr>\n",
       "    <tr>\n",
       "      <th>2</th>\n",
       "      <td>8</td>\n",
       "      <td>183</td>\n",
       "      <td>64</td>\n",
       "      <td>0</td>\n",
       "      <td>0</td>\n",
       "      <td>23.3</td>\n",
       "      <td>0.672</td>\n",
       "      <td>32</td>\n",
       "      <td>tested_positive</td>\n",
       "    </tr>\n",
       "    <tr>\n",
       "      <th>3</th>\n",
       "      <td>1</td>\n",
       "      <td>89</td>\n",
       "      <td>66</td>\n",
       "      <td>23</td>\n",
       "      <td>94</td>\n",
       "      <td>28.1</td>\n",
       "      <td>0.167</td>\n",
       "      <td>21</td>\n",
       "      <td>tested_negative</td>\n",
       "    </tr>\n",
       "    <tr>\n",
       "      <th>4</th>\n",
       "      <td>0</td>\n",
       "      <td>137</td>\n",
       "      <td>40</td>\n",
       "      <td>35</td>\n",
       "      <td>168</td>\n",
       "      <td>43.1</td>\n",
       "      <td>2.288</td>\n",
       "      <td>33</td>\n",
       "      <td>tested_positive</td>\n",
       "    </tr>\n",
       "  </tbody>\n",
       "</table>\n",
       "</div>"
      ],
      "text/plain": [
       "   preg  plas  pres  skin  insu  mass   pedi  age            class\n",
       "0     6   148    72    35     0  33.6  0.627   50  tested_positive\n",
       "1     1    85    66    29     0  26.6  0.351   31  tested_negative\n",
       "2     8   183    64     0     0  23.3  0.672   32  tested_positive\n",
       "3     1    89    66    23    94  28.1  0.167   21  tested_negative\n",
       "4     0   137    40    35   168  43.1  2.288   33  tested_positive"
      ]
     },
     "execution_count": 2,
     "metadata": {},
     "output_type": "execute_result"
    }
   ],
   "source": [
    "diabetes = pd.read_csv('diabetes.csv')\n",
    "diabetes.head()"
   ]
  },
  {
   "cell_type": "markdown",
   "id": "ca01d5ab",
   "metadata": {},
   "source": [
    "* Obtención de la información de la data y sus características estadísticas"
   ]
  },
  {
   "cell_type": "code",
   "execution_count": 3,
   "id": "73651eea",
   "metadata": {},
   "outputs": [
    {
     "name": "stdout",
     "output_type": "stream",
     "text": [
      "<class 'pandas.core.frame.DataFrame'>\n",
      "RangeIndex: 768 entries, 0 to 767\n",
      "Data columns (total 9 columns):\n",
      " #   Column  Non-Null Count  Dtype  \n",
      "---  ------  --------------  -----  \n",
      " 0   preg    768 non-null    int64  \n",
      " 1   plas    768 non-null    int64  \n",
      " 2   pres    768 non-null    int64  \n",
      " 3   skin    768 non-null    int64  \n",
      " 4   insu    768 non-null    int64  \n",
      " 5   mass    768 non-null    float64\n",
      " 6   pedi    768 non-null    float64\n",
      " 7   age     768 non-null    int64  \n",
      " 8   class   768 non-null    object \n",
      "dtypes: float64(2), int64(6), object(1)\n",
      "memory usage: 54.1+ KB\n"
     ]
    }
   ],
   "source": [
    "diabetes.info()"
   ]
  },
  {
   "cell_type": "code",
   "execution_count": 4,
   "id": "604c140e",
   "metadata": {},
   "outputs": [
    {
     "data": {
      "text/html": [
       "<div>\n",
       "<style scoped>\n",
       "    .dataframe tbody tr th:only-of-type {\n",
       "        vertical-align: middle;\n",
       "    }\n",
       "\n",
       "    .dataframe tbody tr th {\n",
       "        vertical-align: top;\n",
       "    }\n",
       "\n",
       "    .dataframe thead th {\n",
       "        text-align: right;\n",
       "    }\n",
       "</style>\n",
       "<table border=\"1\" class=\"dataframe\">\n",
       "  <thead>\n",
       "    <tr style=\"text-align: right;\">\n",
       "      <th></th>\n",
       "      <th>preg</th>\n",
       "      <th>plas</th>\n",
       "      <th>pres</th>\n",
       "      <th>skin</th>\n",
       "      <th>insu</th>\n",
       "      <th>mass</th>\n",
       "      <th>pedi</th>\n",
       "      <th>age</th>\n",
       "    </tr>\n",
       "  </thead>\n",
       "  <tbody>\n",
       "    <tr>\n",
       "      <th>count</th>\n",
       "      <td>768.000000</td>\n",
       "      <td>768.000000</td>\n",
       "      <td>768.000000</td>\n",
       "      <td>768.000000</td>\n",
       "      <td>768.000000</td>\n",
       "      <td>768.000000</td>\n",
       "      <td>768.000000</td>\n",
       "      <td>768.000000</td>\n",
       "    </tr>\n",
       "    <tr>\n",
       "      <th>mean</th>\n",
       "      <td>3.845052</td>\n",
       "      <td>120.894531</td>\n",
       "      <td>69.105469</td>\n",
       "      <td>20.536458</td>\n",
       "      <td>79.799479</td>\n",
       "      <td>31.992578</td>\n",
       "      <td>0.471876</td>\n",
       "      <td>33.240885</td>\n",
       "    </tr>\n",
       "    <tr>\n",
       "      <th>std</th>\n",
       "      <td>3.369578</td>\n",
       "      <td>31.972618</td>\n",
       "      <td>19.355807</td>\n",
       "      <td>15.952218</td>\n",
       "      <td>115.244002</td>\n",
       "      <td>7.884160</td>\n",
       "      <td>0.331329</td>\n",
       "      <td>11.760232</td>\n",
       "    </tr>\n",
       "    <tr>\n",
       "      <th>min</th>\n",
       "      <td>0.000000</td>\n",
       "      <td>0.000000</td>\n",
       "      <td>0.000000</td>\n",
       "      <td>0.000000</td>\n",
       "      <td>0.000000</td>\n",
       "      <td>0.000000</td>\n",
       "      <td>0.078000</td>\n",
       "      <td>21.000000</td>\n",
       "    </tr>\n",
       "    <tr>\n",
       "      <th>25%</th>\n",
       "      <td>1.000000</td>\n",
       "      <td>99.000000</td>\n",
       "      <td>62.000000</td>\n",
       "      <td>0.000000</td>\n",
       "      <td>0.000000</td>\n",
       "      <td>27.300000</td>\n",
       "      <td>0.243750</td>\n",
       "      <td>24.000000</td>\n",
       "    </tr>\n",
       "    <tr>\n",
       "      <th>50%</th>\n",
       "      <td>3.000000</td>\n",
       "      <td>117.000000</td>\n",
       "      <td>72.000000</td>\n",
       "      <td>23.000000</td>\n",
       "      <td>30.500000</td>\n",
       "      <td>32.000000</td>\n",
       "      <td>0.372500</td>\n",
       "      <td>29.000000</td>\n",
       "    </tr>\n",
       "    <tr>\n",
       "      <th>75%</th>\n",
       "      <td>6.000000</td>\n",
       "      <td>140.250000</td>\n",
       "      <td>80.000000</td>\n",
       "      <td>32.000000</td>\n",
       "      <td>127.250000</td>\n",
       "      <td>36.600000</td>\n",
       "      <td>0.626250</td>\n",
       "      <td>41.000000</td>\n",
       "    </tr>\n",
       "    <tr>\n",
       "      <th>max</th>\n",
       "      <td>17.000000</td>\n",
       "      <td>199.000000</td>\n",
       "      <td>122.000000</td>\n",
       "      <td>99.000000</td>\n",
       "      <td>846.000000</td>\n",
       "      <td>67.100000</td>\n",
       "      <td>2.420000</td>\n",
       "      <td>81.000000</td>\n",
       "    </tr>\n",
       "  </tbody>\n",
       "</table>\n",
       "</div>"
      ],
      "text/plain": [
       "             preg        plas        pres        skin        insu        mass  \\\n",
       "count  768.000000  768.000000  768.000000  768.000000  768.000000  768.000000   \n",
       "mean     3.845052  120.894531   69.105469   20.536458   79.799479   31.992578   \n",
       "std      3.369578   31.972618   19.355807   15.952218  115.244002    7.884160   \n",
       "min      0.000000    0.000000    0.000000    0.000000    0.000000    0.000000   \n",
       "25%      1.000000   99.000000   62.000000    0.000000    0.000000   27.300000   \n",
       "50%      3.000000  117.000000   72.000000   23.000000   30.500000   32.000000   \n",
       "75%      6.000000  140.250000   80.000000   32.000000  127.250000   36.600000   \n",
       "max     17.000000  199.000000  122.000000   99.000000  846.000000   67.100000   \n",
       "\n",
       "             pedi         age  \n",
       "count  768.000000  768.000000  \n",
       "mean     0.471876   33.240885  \n",
       "std      0.331329   11.760232  \n",
       "min      0.078000   21.000000  \n",
       "25%      0.243750   24.000000  \n",
       "50%      0.372500   29.000000  \n",
       "75%      0.626250   41.000000  \n",
       "max      2.420000   81.000000  "
      ]
     },
     "execution_count": 4,
     "metadata": {},
     "output_type": "execute_result"
    }
   ],
   "source": [
    "diabetes.describe()"
   ]
  },
  {
   "cell_type": "markdown",
   "id": "18a3257b",
   "metadata": {},
   "source": [
    "* Conteo de los valores existentes para el campo class"
   ]
  },
  {
   "cell_type": "code",
   "execution_count": 5,
   "id": "adf942b0",
   "metadata": {},
   "outputs": [
    {
     "data": {
      "text/plain": [
       "tested_negative    500\n",
       "tested_positive    268\n",
       "Name: class, dtype: int64"
      ]
     },
     "execution_count": 5,
     "metadata": {},
     "output_type": "execute_result"
    }
   ],
   "source": [
    "diabetes[\"class\"].value_counts()"
   ]
  },
  {
   "cell_type": "markdown",
   "id": "c84365bd",
   "metadata": {},
   "source": [
    "* Preparación de los datos para el entrenamiento de los modelos\n",
    "\n",
    "* De igual modo, realizamos el entrenamiento del modelo, colocando el 80% de los datos para entrenar el modelo y el 20% para validar su funcionamiento. Esta elección para ambos casos se hará de manera aleatoria"
   ]
  },
  {
   "cell_type": "code",
   "execution_count": 6,
   "id": "6ab926ff",
   "metadata": {},
   "outputs": [],
   "source": [
    "y_diabetes = diabetes['class']\n",
    "x_diabetes = diabetes.drop(['class'], axis=1)"
   ]
  },
  {
   "cell_type": "code",
   "execution_count": 7,
   "id": "be452dd0",
   "metadata": {},
   "outputs": [],
   "source": [
    "x_diabetes_train, x_diabetes_test, y_diabetes_train, y_diabetes_test = train_test_split(x_diabetes,\n",
    "                                                                                        y_diabetes,\n",
    "                                                                                        test_size = 0.2,\n",
    "                                                                                        random_state = 1234,\n",
    "                                                                                        shuffle = True)"
   ]
  },
  {
   "cell_type": "markdown",
   "id": "6eb2af6b",
   "metadata": {},
   "source": [
    "* Se realiza la configuración para el clasificador de árbol de decisión de acuerdo a como se menciona en el documento\n",
    "\n",
    "* Tambien entrenamos el clasificador a partir de los datos de entrenamiento X e Y"
   ]
  },
  {
   "cell_type": "code",
   "execution_count": 8,
   "id": "90d673d7",
   "metadata": {},
   "outputs": [],
   "source": [
    "clf_one_level_diabetes = tree.DecisionTreeClassifier(criterion = 'entropy',max_depth = 1)\n",
    "clf_one_level_diabetes = clf_one_level_diabetes.fit(x_diabetes_train,y_diabetes_train)"
   ]
  },
  {
   "cell_type": "markdown",
   "id": "52ccdafd",
   "metadata": {},
   "source": [
    "* Posteriormente obtenemos los valores predichos de acuerdo al clasificador de árbol de decisión.\n",
    "\n",
    "* Finalmente obtenemos el % de precisión de acuerdo a los valores predichos y los datos de validación"
   ]
  },
  {
   "cell_type": "code",
   "execution_count": 9,
   "id": "06c08416",
   "metadata": {},
   "outputs": [],
   "source": [
    "y_predict_one_level_diabetes = clf_one_level_diabetes.predict(x_diabetes_test)"
   ]
  },
  {
   "cell_type": "code",
   "execution_count": 10,
   "id": "8fabe2ec",
   "metadata": {},
   "outputs": [
    {
     "name": "stdout",
     "output_type": "stream",
     "text": [
      "0.7142857142857143\n"
     ]
    }
   ],
   "source": [
    "acc_diabetes = accuracy_score(y_diabetes_test,y_predict_one_level_diabetes)\n",
    "print(acc_diabetes)"
   ]
  },
  {
   "cell_type": "markdown",
   "id": "1168e636",
   "metadata": {},
   "source": [
    "* Se realizan los mismos pasos pero en esta ocasión consideraremos la configuración para árboles de decisión multi-nivel"
   ]
  },
  {
   "cell_type": "code",
   "execution_count": 11,
   "id": "157e31dd",
   "metadata": {},
   "outputs": [],
   "source": [
    "clf_multi_level_diabetes = tree.DecisionTreeClassifier(criterion = 'entropy',max_depth = None)\n",
    "clf_multi_level_diabetes = clf_multi_level_diabetes.fit(x_diabetes_train,y_diabetes_train)"
   ]
  },
  {
   "cell_type": "code",
   "execution_count": 12,
   "id": "3fd467c6",
   "metadata": {},
   "outputs": [],
   "source": [
    "y_predict_multi_level_diabetes = clf_multi_level_diabetes.predict(x_diabetes_test)"
   ]
  },
  {
   "cell_type": "code",
   "execution_count": 13,
   "id": "aaae7118",
   "metadata": {},
   "outputs": [
    {
     "name": "stdout",
     "output_type": "stream",
     "text": [
      "0.7207792207792207\n"
     ]
    }
   ],
   "source": [
    "acc_multi_diabetes = accuracy_score(y_diabetes_test,y_predict_multi_level_diabetes)\n",
    "print(acc_multi_diabetes)"
   ]
  },
  {
   "cell_type": "markdown",
   "id": "131b157b",
   "metadata": {},
   "source": [
    "* Guardado en un arreglo el % de precisión para el árbol de decisión multi-nivel"
   ]
  },
  {
   "cell_type": "code",
   "execution_count": 14,
   "id": "f0d0569c",
   "metadata": {},
   "outputs": [],
   "source": [
    "arr_accu_diabetes = []\n",
    "\n",
    "#1\n",
    "clf_multi_level_diabetes_1 = tree.DecisionTreeClassifier(criterion = 'entropy', max_depth = None)\n",
    "clf_multi_level_diabetes_1 = clf_multi_level_diabetes_1.fit(x_diabetes_train,y_diabetes_train)\n",
    "y_predict_multi_level_diabetes_1 = clf_multi_level_diabetes_1.predict(x_diabetes_test)\n",
    "acc_multi_diabetes_1 = accuracy_score(y_diabetes_test,y_predict_multi_level_diabetes_1)\n",
    "arr_accu_diabetes.append(acc_multi_diabetes_1)\n",
    "\n",
    "\n",
    "#2\n",
    "clf_multi_level_diabetes_2 = tree.DecisionTreeClassifier(criterion = 'entropy',max_depth = None)\n",
    "clf_multi_level_diabetes_2 = clf_multi_level_diabetes_2.fit(x_diabetes_train,y_diabetes_train)\n",
    "y_predict_multi_level_diabetes_2 = clf_multi_level_diabetes_2.predict(x_diabetes_test)\n",
    "acc_multi_diabetes_2 = accuracy_score(y_diabetes_test,y_predict_multi_level_diabetes_2)\n",
    "arr_accu_diabetes.append(acc_multi_diabetes_2)\n",
    "\n",
    "#3\n",
    "clf_multi_level_diabetes_3 = tree.DecisionTreeClassifier(criterion = 'entropy', max_depth = None)\n",
    "clf_multi_level_diabetes_3 = clf_multi_level_diabetes_3.fit(x_diabetes_train,y_diabetes_train)\n",
    "y_predict_multi_level_diabetes_3 = clf_multi_level_diabetes_3.predict(x_diabetes_test)\n",
    "acc_multi_diabetes_3 = accuracy_score(y_diabetes_test,y_predict_multi_level_diabetes_3)\n",
    "arr_accu_diabetes.append(acc_multi_diabetes_3)\n",
    "\n",
    "#4\n",
    "clf_multi_level_diabetes_4 = tree.DecisionTreeClassifier(criterion = 'entropy', max_depth = None)\n",
    "clf_multi_level_diabetes_4 = clf_multi_level_diabetes_4.fit(x_diabetes_train,y_diabetes_train)\n",
    "y_predict_multi_level_diabetes_4 = clf_multi_level_diabetes_4.predict(x_diabetes_test)\n",
    "acc_multi_diabetes_4 = accuracy_score(y_diabetes_test,y_predict_multi_level_diabetes_4)\n",
    "arr_accu_diabetes.append(acc_multi_diabetes_4)\n",
    "\n",
    "#5\n",
    "clf_multi_level_diabetes_5 = tree.DecisionTreeClassifier(criterion = 'entropy', max_depth = None)\n",
    "clf_multi_level_diabetes_5 = clf_multi_level_diabetes_5.fit(x_diabetes_train,y_diabetes_train)\n",
    "y_predict_multi_level_diabetes_5 = clf_multi_level_diabetes_5.predict(x_diabetes_test)\n",
    "acc_multi_diabetes_5 = accuracy_score(y_diabetes_test,y_predict_multi_level_diabetes_5)\n",
    "arr_accu_diabetes.append(acc_multi_diabetes_5)"
   ]
  },
  {
   "cell_type": "markdown",
   "id": "6a475396",
   "metadata": {},
   "source": [
    "* Gráfica de la precisión de acuerdo al número min_samples_leaf"
   ]
  },
  {
   "cell_type": "code",
   "execution_count": 15,
   "id": "eecb3809",
   "metadata": {},
   "outputs": [
    {
     "data": {
      "image/png": "[encoded data removed]",
      "text/plain": [
       "<Figure size 432x288 with 1 Axes>"
      ]
     },
     "metadata": {
      "needs_background": "light"
     },
     "output_type": "display_data"
    }
   ],
   "source": [
    "min_leaf = [1,2,3,4,5]\n",
    "plt.plot(min_leaf,arr_accu_diabetes)\n",
    "plt.show()"
   ]
  },
  {
   "cell_type": "markdown",
   "id": "a3fef14c",
   "metadata": {},
   "source": [
    "#### **VIDRIO**"
   ]
  },
  {
   "cell_type": "markdown",
   "id": "7122c581",
   "metadata": {},
   "source": [
    "* Para el caso de la data de vidrio omitiré la explicación de todo lo realizado, ya que prácticamente es el mismo procedimiento que se realizó con la data de Diabetes. El resultado se puede observar de igual manera que en el anterior ejercicio"
   ]
  },
  {
   "cell_type": "code",
   "execution_count": 16,
   "id": "d485053a",
   "metadata": {},
   "outputs": [
    {
     "data": {
      "text/html": [
       "<div>\n",
       "<style scoped>\n",
       "    .dataframe tbody tr th:only-of-type {\n",
       "        vertical-align: middle;\n",
       "    }\n",
       "\n",
       "    .dataframe tbody tr th {\n",
       "        vertical-align: top;\n",
       "    }\n",
       "\n",
       "    .dataframe thead th {\n",
       "        text-align: right;\n",
       "    }\n",
       "</style>\n",
       "<table border=\"1\" class=\"dataframe\">\n",
       "  <thead>\n",
       "    <tr style=\"text-align: right;\">\n",
       "      <th></th>\n",
       "      <th>RI</th>\n",
       "      <th>Na</th>\n",
       "      <th>Mg</th>\n",
       "      <th>Al</th>\n",
       "      <th>Si</th>\n",
       "      <th>K</th>\n",
       "      <th>Ca</th>\n",
       "      <th>Ba</th>\n",
       "      <th>Fe</th>\n",
       "      <th>class</th>\n",
       "    </tr>\n",
       "  </thead>\n",
       "  <tbody>\n",
       "    <tr>\n",
       "      <th>0</th>\n",
       "      <td>1.51793</td>\n",
       "      <td>12.79</td>\n",
       "      <td>3.50</td>\n",
       "      <td>1.12</td>\n",
       "      <td>73.03</td>\n",
       "      <td>0.64</td>\n",
       "      <td>8.77</td>\n",
       "      <td>0.0</td>\n",
       "      <td>0.00</td>\n",
       "      <td>'build wind float'</td>\n",
       "    </tr>\n",
       "    <tr>\n",
       "      <th>1</th>\n",
       "      <td>1.51643</td>\n",
       "      <td>12.16</td>\n",
       "      <td>3.52</td>\n",
       "      <td>1.35</td>\n",
       "      <td>72.89</td>\n",
       "      <td>0.57</td>\n",
       "      <td>8.53</td>\n",
       "      <td>0.0</td>\n",
       "      <td>0.00</td>\n",
       "      <td>'vehic wind float'</td>\n",
       "    </tr>\n",
       "    <tr>\n",
       "      <th>2</th>\n",
       "      <td>1.51793</td>\n",
       "      <td>13.21</td>\n",
       "      <td>3.48</td>\n",
       "      <td>1.41</td>\n",
       "      <td>72.64</td>\n",
       "      <td>0.59</td>\n",
       "      <td>8.43</td>\n",
       "      <td>0.0</td>\n",
       "      <td>0.00</td>\n",
       "      <td>'build wind float'</td>\n",
       "    </tr>\n",
       "    <tr>\n",
       "      <th>3</th>\n",
       "      <td>1.51299</td>\n",
       "      <td>14.40</td>\n",
       "      <td>1.74</td>\n",
       "      <td>1.54</td>\n",
       "      <td>74.55</td>\n",
       "      <td>0.00</td>\n",
       "      <td>7.59</td>\n",
       "      <td>0.0</td>\n",
       "      <td>0.00</td>\n",
       "      <td>tableware</td>\n",
       "    </tr>\n",
       "    <tr>\n",
       "      <th>4</th>\n",
       "      <td>1.53393</td>\n",
       "      <td>12.30</td>\n",
       "      <td>0.00</td>\n",
       "      <td>1.00</td>\n",
       "      <td>70.16</td>\n",
       "      <td>0.12</td>\n",
       "      <td>16.19</td>\n",
       "      <td>0.0</td>\n",
       "      <td>0.24</td>\n",
       "      <td>'build wind non-float'</td>\n",
       "    </tr>\n",
       "  </tbody>\n",
       "</table>\n",
       "</div>"
      ],
      "text/plain": [
       "        RI     Na    Mg    Al     Si     K     Ca   Ba    Fe  \\\n",
       "0  1.51793  12.79  3.50  1.12  73.03  0.64   8.77  0.0  0.00   \n",
       "1  1.51643  12.16  3.52  1.35  72.89  0.57   8.53  0.0  0.00   \n",
       "2  1.51793  13.21  3.48  1.41  72.64  0.59   8.43  0.0  0.00   \n",
       "3  1.51299  14.40  1.74  1.54  74.55  0.00   7.59  0.0  0.00   \n",
       "4  1.53393  12.30  0.00  1.00  70.16  0.12  16.19  0.0  0.24   \n",
       "\n",
       "                    class  \n",
       "0      'build wind float'  \n",
       "1      'vehic wind float'  \n",
       "2      'build wind float'  \n",
       "3               tableware  \n",
       "4  'build wind non-float'  "
      ]
     },
     "execution_count": 16,
     "metadata": {},
     "output_type": "execute_result"
    }
   ],
   "source": [
    "vidrio = pd.read_csv('glass.csv')\n",
    "vidrio.head()"
   ]
  },
  {
   "cell_type": "code",
   "execution_count": 17,
   "id": "c28bf538",
   "metadata": {},
   "outputs": [
    {
     "name": "stdout",
     "output_type": "stream",
     "text": [
      "<class 'pandas.core.frame.DataFrame'>\n",
      "RangeIndex: 214 entries, 0 to 213\n",
      "Data columns (total 10 columns):\n",
      " #   Column  Non-Null Count  Dtype  \n",
      "---  ------  --------------  -----  \n",
      " 0   RI      214 non-null    float64\n",
      " 1   Na      214 non-null    float64\n",
      " 2   Mg      214 non-null    float64\n",
      " 3   Al      214 non-null    float64\n",
      " 4   Si      214 non-null    float64\n",
      " 5   K       214 non-null    float64\n",
      " 6   Ca      214 non-null    float64\n",
      " 7   Ba      214 non-null    float64\n",
      " 8   Fe      214 non-null    float64\n",
      " 9   class   214 non-null    object \n",
      "dtypes: float64(9), object(1)\n",
      "memory usage: 16.8+ KB\n"
     ]
    }
   ],
   "source": [
    "vidrio.info()"
   ]
  },
  {
   "cell_type": "code",
   "execution_count": 18,
   "id": "4df9005b",
   "metadata": {},
   "outputs": [
    {
     "data": {
      "text/html": [
       "<div>\n",
       "<style scoped>\n",
       "    .dataframe tbody tr th:only-of-type {\n",
       "        vertical-align: middle;\n",
       "    }\n",
       "\n",
       "    .dataframe tbody tr th {\n",
       "        vertical-align: top;\n",
       "    }\n",
       "\n",
       "    .dataframe thead th {\n",
       "        text-align: right;\n",
       "    }\n",
       "</style>\n",
       "<table border=\"1\" class=\"dataframe\">\n",
       "  <thead>\n",
       "    <tr style=\"text-align: right;\">\n",
       "      <th></th>\n",
       "      <th>RI</th>\n",
       "      <th>Na</th>\n",
       "      <th>Mg</th>\n",
       "      <th>Al</th>\n",
       "      <th>Si</th>\n",
       "      <th>K</th>\n",
       "      <th>Ca</th>\n",
       "      <th>Ba</th>\n",
       "      <th>Fe</th>\n",
       "    </tr>\n",
       "  </thead>\n",
       "  <tbody>\n",
       "    <tr>\n",
       "      <th>count</th>\n",
       "      <td>214.000000</td>\n",
       "      <td>214.000000</td>\n",
       "      <td>214.000000</td>\n",
       "      <td>214.000000</td>\n",
       "      <td>214.000000</td>\n",
       "      <td>214.000000</td>\n",
       "      <td>214.000000</td>\n",
       "      <td>214.000000</td>\n",
       "      <td>214.000000</td>\n",
       "    </tr>\n",
       "    <tr>\n",
       "      <th>mean</th>\n",
       "      <td>1.518365</td>\n",
       "      <td>13.407850</td>\n",
       "      <td>2.684533</td>\n",
       "      <td>1.444907</td>\n",
       "      <td>72.650935</td>\n",
       "      <td>0.497056</td>\n",
       "      <td>8.956963</td>\n",
       "      <td>0.175047</td>\n",
       "      <td>0.057009</td>\n",
       "    </tr>\n",
       "    <tr>\n",
       "      <th>std</th>\n",
       "      <td>0.003037</td>\n",
       "      <td>0.816604</td>\n",
       "      <td>1.442408</td>\n",
       "      <td>0.499270</td>\n",
       "      <td>0.774546</td>\n",
       "      <td>0.652192</td>\n",
       "      <td>1.423153</td>\n",
       "      <td>0.497219</td>\n",
       "      <td>0.097439</td>\n",
       "    </tr>\n",
       "    <tr>\n",
       "      <th>min</th>\n",
       "      <td>1.511150</td>\n",
       "      <td>10.730000</td>\n",
       "      <td>0.000000</td>\n",
       "      <td>0.290000</td>\n",
       "      <td>69.810000</td>\n",
       "      <td>0.000000</td>\n",
       "      <td>5.430000</td>\n",
       "      <td>0.000000</td>\n",
       "      <td>0.000000</td>\n",
       "    </tr>\n",
       "    <tr>\n",
       "      <th>25%</th>\n",
       "      <td>1.516522</td>\n",
       "      <td>12.907500</td>\n",
       "      <td>2.115000</td>\n",
       "      <td>1.190000</td>\n",
       "      <td>72.280000</td>\n",
       "      <td>0.122500</td>\n",
       "      <td>8.240000</td>\n",
       "      <td>0.000000</td>\n",
       "      <td>0.000000</td>\n",
       "    </tr>\n",
       "    <tr>\n",
       "      <th>50%</th>\n",
       "      <td>1.517680</td>\n",
       "      <td>13.300000</td>\n",
       "      <td>3.480000</td>\n",
       "      <td>1.360000</td>\n",
       "      <td>72.790000</td>\n",
       "      <td>0.555000</td>\n",
       "      <td>8.600000</td>\n",
       "      <td>0.000000</td>\n",
       "      <td>0.000000</td>\n",
       "    </tr>\n",
       "    <tr>\n",
       "      <th>75%</th>\n",
       "      <td>1.519157</td>\n",
       "      <td>13.825000</td>\n",
       "      <td>3.600000</td>\n",
       "      <td>1.630000</td>\n",
       "      <td>73.087500</td>\n",
       "      <td>0.610000</td>\n",
       "      <td>9.172500</td>\n",
       "      <td>0.000000</td>\n",
       "      <td>0.100000</td>\n",
       "    </tr>\n",
       "    <tr>\n",
       "      <th>max</th>\n",
       "      <td>1.533930</td>\n",
       "      <td>17.380000</td>\n",
       "      <td>4.490000</td>\n",
       "      <td>3.500000</td>\n",
       "      <td>75.410000</td>\n",
       "      <td>6.210000</td>\n",
       "      <td>16.190000</td>\n",
       "      <td>3.150000</td>\n",
       "      <td>0.510000</td>\n",
       "    </tr>\n",
       "  </tbody>\n",
       "</table>\n",
       "</div>"
      ],
      "text/plain": [
       "               RI          Na          Mg          Al          Si           K  \\\n",
       "count  214.000000  214.000000  214.000000  214.000000  214.000000  214.000000   \n",
       "mean     1.518365   13.407850    2.684533    1.444907   72.650935    0.497056   \n",
       "std      0.003037    0.816604    1.442408    0.499270    0.774546    0.652192   \n",
       "min      1.511150   10.730000    0.000000    0.290000   69.810000    0.000000   \n",
       "25%      1.516522   12.907500    2.115000    1.190000   72.280000    0.122500   \n",
       "50%      1.517680   13.300000    3.480000    1.360000   72.790000    0.555000   \n",
       "75%      1.519157   13.825000    3.600000    1.630000   73.087500    0.610000   \n",
       "max      1.533930   17.380000    4.490000    3.500000   75.410000    6.210000   \n",
       "\n",
       "               Ca          Ba          Fe  \n",
       "count  214.000000  214.000000  214.000000  \n",
       "mean     8.956963    0.175047    0.057009  \n",
       "std      1.423153    0.497219    0.097439  \n",
       "min      5.430000    0.000000    0.000000  \n",
       "25%      8.240000    0.000000    0.000000  \n",
       "50%      8.600000    0.000000    0.000000  \n",
       "75%      9.172500    0.000000    0.100000  \n",
       "max     16.190000    3.150000    0.510000  "
      ]
     },
     "execution_count": 18,
     "metadata": {},
     "output_type": "execute_result"
    }
   ],
   "source": [
    "vidrio.describe()"
   ]
  },
  {
   "cell_type": "code",
   "execution_count": 19,
   "id": "cf3a689e",
   "metadata": {},
   "outputs": [
    {
     "data": {
      "text/plain": [
       "'build wind non-float'    76\n",
       "'build wind float'        70\n",
       "headlamps                 29\n",
       "'vehic wind float'        17\n",
       "containers                13\n",
       "tableware                  9\n",
       "Name: class, dtype: int64"
      ]
     },
     "execution_count": 19,
     "metadata": {},
     "output_type": "execute_result"
    }
   ],
   "source": [
    "vidrio[\"class\"].value_counts()"
   ]
  },
  {
   "cell_type": "code",
   "execution_count": 20,
   "id": "b1f40ee1",
   "metadata": {},
   "outputs": [],
   "source": [
    "y_vidrio = vidrio['class']\n",
    "x_vidrio = vidrio.drop(['class'],axis=1)"
   ]
  },
  {
   "cell_type": "code",
   "execution_count": 21,
   "id": "7a226026",
   "metadata": {},
   "outputs": [],
   "source": [
    "x_vidrio_train, x_vidrio_test, y_vidrio_train, y_vidrio_test = train_test_split(x_vidrio, y_vidrio,\n",
    "                                                                            test_size = 0.2,\n",
    "                                                                            random_state = 1234,\n",
    "                                                                            shuffle = True)"
   ]
  },
  {
   "cell_type": "code",
   "execution_count": 22,
   "id": "f343ae5e",
   "metadata": {},
   "outputs": [],
   "source": [
    "clf_one_level_vidrio = tree.DecisionTreeClassifier(criterion = 'entropy',max_depth = 1)\n",
    "clf_one_level_vidrio = clf_one_level_vidrio.fit(x_vidrio_train,y_vidrio_train)"
   ]
  },
  {
   "cell_type": "code",
   "execution_count": 23,
   "id": "c40aca60",
   "metadata": {},
   "outputs": [],
   "source": [
    "y_predict_one_level_vidrio = clf_one_level_vidrio.predict(x_vidrio_test)"
   ]
  },
  {
   "cell_type": "code",
   "execution_count": 24,
   "id": "37a8736d",
   "metadata": {},
   "outputs": [
    {
     "name": "stdout",
     "output_type": "stream",
     "text": [
      "0.46511627906976744\n"
     ]
    }
   ],
   "source": [
    "acc_vidrio = accuracy_score(y_vidrio_test,y_predict_one_level_vidrio)\n",
    "print(acc_vidrio)"
   ]
  },
  {
   "cell_type": "code",
   "execution_count": 25,
   "id": "c86227ed",
   "metadata": {},
   "outputs": [],
   "source": [
    "clf_multi_level_vidrio = tree.DecisionTreeClassifier(criterion = 'entropy',max_depth = None)\n",
    "clf_multi_level_vidrio = clf_multi_level_vidrio.fit(x_vidrio_train,y_vidrio_train)"
   ]
  },
  {
   "cell_type": "code",
   "execution_count": 26,
   "id": "1a0041eb",
   "metadata": {},
   "outputs": [],
   "source": [
    "y_predict_multi_level_vidrio = clf_multi_level_vidrio.predict(x_vidrio_test)"
   ]
  },
  {
   "cell_type": "code",
   "execution_count": 27,
   "id": "81ecd78a",
   "metadata": {},
   "outputs": [
    {
     "name": "stdout",
     "output_type": "stream",
     "text": [
      "0.6744186046511628\n"
     ]
    }
   ],
   "source": [
    "acc_multi_vidrio = accuracy_score(y_vidrio_test,y_predict_multi_level_vidrio)\n",
    "print(acc_multi_vidrio)"
   ]
  },
  {
   "cell_type": "code",
   "execution_count": 28,
   "id": "c96abcf5",
   "metadata": {},
   "outputs": [],
   "source": [
    "arr_accu_vidrio = []\n",
    "\n",
    "\n",
    "# Modificando min_samples_leaf = 1\n",
    "clf_multi_level_vidrio_1 = tree.DecisionTreeClassifier(criterion = 'entropy', max_depth = None)\n",
    "clf_multi_level_vidrio_1 = clf_multi_level_vidrio_1.fit(x_vidrio_train,y_vidrio_train)\n",
    "y_predict_multi_level_vidrio_1 = clf_multi_level_vidrio_1.predict(x_vidrio_test)\n",
    "acc_multi_vidrio_1 = accuracy_score(y_vidrio_test,y_predict_multi_level_vidrio_1)\n",
    "arr_accu_vidrio.append(acc_multi_vidrio_1)\n",
    "                                                            \n",
    "#2\n",
    "clf_multi_level_vidrio_2 = tree.DecisionTreeClassifier(criterion = 'entropy', max_depth = None)\n",
    "clf_multi_level_vidrio_2 = clf_multi_level_vidrio_2.fit(x_vidrio_train,y_vidrio_train)\n",
    "y_predict_multi_level_vidrio_2 = clf_multi_level_vidrio_2.predict(x_vidrio_test)\n",
    "acc_multi_vidrio_2 = accuracy_score(y_vidrio_test,y_predict_multi_level_vidrio_2)\n",
    "arr_accu_vidrio.append(acc_multi_vidrio_2)\n",
    "\n",
    "#3\n",
    "clf_multi_level_vidrio_3 = tree.DecisionTreeClassifier(criterion = 'entropy', max_depth = None)\n",
    "clf_multi_level_vidrio_3 = clf_multi_level_vidrio_3.fit(x_vidrio_train,y_vidrio_train)\n",
    "y_predict_multi_level_vidrio_3 = clf_multi_level_vidrio_3.predict(x_vidrio_test)\n",
    "acc_multi_vidrio_3 = accuracy_score(y_vidrio_test,y_predict_multi_level_vidrio_3)\n",
    "arr_accu_vidrio.append(acc_multi_vidrio_3)\n",
    "\n",
    "#4\n",
    "clf_multi_level_vidrio_4 = tree.DecisionTreeClassifier(criterion = 'entropy', max_depth = None)\n",
    "clf_multi_level_vidrio_4 = clf_multi_level_vidrio_4.fit(x_vidrio_train,y_vidrio_train)\n",
    "y_predict_multi_level_vidrio_4 = clf_multi_level_vidrio_4.predict(x_vidrio_test)\n",
    "acc_multi_vidrio_4 = accuracy_score(y_vidrio_test,y_predict_multi_level_vidrio_4)\n",
    "arr_accu_vidrio.append(acc_multi_vidrio_4)\n",
    "\n",
    "#5\n",
    "clf_multi_level_vidrio_5 = tree.DecisionTreeClassifier(criterion = 'entropy', max_depth = None)\n",
    "clf_multi_level_vidrio_5 = clf_multi_level_vidrio_5.fit(x_vidrio_train,y_vidrio_train)\n",
    "y_predict_multi_level_vidrio_5 = clf_multi_level_vidrio_5.predict(x_vidrio_test)\n",
    "acc_multi_vidrio_5 = accuracy_score(y_vidrio_test,y_predict_multi_level_vidrio_5)\n",
    "arr_accu_vidrio.append(acc_multi_vidrio_5)"
   ]
  },
  {
   "cell_type": "code",
   "execution_count": 29,
   "id": "d8350402",
   "metadata": {},
   "outputs": [
    {
     "data": {
      "image/png": "[encoded data removed]",
      "text/plain": [
       "<Figure size 432x288 with 1 Axes>"
      ]
     },
     "metadata": {
      "needs_background": "light"
     },
     "output_type": "display_data"
    }
   ],
   "source": [
    "min_leaf = [1,2,3,4,5]\n",
    "plt.plot(min_leaf,arr_accu_vidrio)\n",
    "plt.show()"
   ]
  },
  {
   "cell_type": "code",
   "execution_count": null,
   "id": "f911f501",
   "metadata": {},
   "outputs": [],
   "source": []
  }
 ],
 "metadata": {
  "kernelspec": {
   "display_name": "Python 3 (ipykernel)",
   "language": "python",
   "name": "python3"
  },
  "language_info": {
   "codemirror_mode": {
    "name": "ipython",
    "version": 3
   },
   "file_extension": ".py",
   "mimetype": "text/x-python",
   "name": "python",
   "nbconvert_exporter": "python",
   "pygments_lexer": "ipython3",
   "version": "3.9.7"
  }
 },
 "nbformat": 4,
 "nbformat_minor": 5
}
