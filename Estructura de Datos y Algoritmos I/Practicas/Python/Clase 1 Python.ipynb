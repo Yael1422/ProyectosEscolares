{
 "cells": [
  {
   "cell_type": "code",
   "execution_count": 1,
   "metadata": {},
   "outputs": [
    {
     "name": "stdout",
     "output_type": "stream",
     "text": [
      "45\n"
     ]
    }
   ],
   "source": [
    "#Comentario\n",
    "print (5*9)"
   ]
  },
  {
   "cell_type": "code",
   "execution_count": 2,
   "metadata": {},
   "outputs": [
    {
     "name": "stdout",
     "output_type": "stream",
     "text": [
      "244.79999999999998\n"
     ]
    }
   ],
   "source": [
    "base=10.2\n",
    "altura=2*12\n",
    "area=base*altura\n",
    "print(area)"
   ]
  },
  {
   "cell_type": "code",
   "execution_count": 3,
   "metadata": {},
   "outputs": [
    {
     "name": "stdout",
     "output_type": "stream",
     "text": [
      "Hola 10\n",
      "244.79999999999998\n"
     ]
    }
   ],
   "source": [
    "cad=\"Hola\"\n",
    "e=10\n",
    "print(cad,e)\n",
    "type(e)\n",
    "type(cad)\n",
    "print(area)"
   ]
  },
  {
   "cell_type": "code",
   "execution_count": 4,
   "metadata": {},
   "outputs": [],
   "source": [
    "var=None"
   ]
  },
  {
   "cell_type": "code",
   "execution_count": 5,
   "metadata": {},
   "outputs": [
    {
     "name": "stdout",
     "output_type": "stream",
     "text": [
      "phython\n",
      "phython\n",
      "phython 3\n",
      "phythonphython 33\n",
      "Cambiendo el orden: phython 3 3 phython #\n"
     ]
    }
   ],
   "source": [
    "var1='phy'\n",
    "var2='thon'\n",
    "print(var1+var2)\n",
    "cadenas=var1+var2\n",
    "print(cadenas)\n",
    "\n",
    "cadenaNum=cadenas+' '+str(3)\n",
    "print(cadenaNum)\n",
    "\n",
    "num_cadena=\"{}{}{}\" .format(cadenas,cadenaNum,3)\n",
    "print(num_cadena)\n",
    "\n",
    "num_cadena=\"Cambiendo el orden: {1} {2} {0} #\".format(cadenas,cadenaNum,3)\n",
    "print(num_cadena)"
   ]
  },
  {
   "cell_type": "code",
   "execution_count": 6,
   "metadata": {},
   "outputs": [
    {
     "name": "stdout",
     "output_type": "stream",
     "text": [
      "Primera línea\n",
      "Segunda línea\n",
      "Tercera linea\n",
      "\n"
     ]
    }
   ],
   "source": [
    "print(\"\"\"\\\n",
    "Primera línea\n",
    "Segunda línea\n",
    "Tercera linea\n",
    "\"\"\")"
   ]
  },
  {
   "cell_type": "code",
   "execution_count": 7,
   "metadata": {},
   "outputs": [
    {
     "name": "stdout",
     "output_type": "stream",
     "text": [
      "P t o\n",
      "P t o\n",
      "Py\n",
      "thon\n",
      "on\n",
      "Pyth\n"
     ]
    }
   ],
   "source": [
    "palabra='Python'\n",
    "print(palabra[0], palabra[2], palabra[4])\n",
    "print(palabra[-6], palabra[-4], palabra[-2])\n",
    "\n",
    "print(palabra[:2])\n",
    "print(palabra[2:])\n",
    "print(palabra[-2:])\n",
    "print(palabra[:-2])"
   ]
  },
  {
   "cell_type": "code",
   "execution_count": 8,
   "metadata": {},
   "outputs": [
    {
     "name": "stdout",
     "output_type": "stream",
     "text": [
      "True\n",
      "True\n",
      "True\n",
      "False\n",
      "True\n",
      "False\n",
      "False\n",
      "True\n"
     ]
    }
   ],
   "source": [
    "print('hola'=='hola')\n",
    "print('hola'!='Hola')\n",
    "print(5>3)\n",
    "print(5<=3)\n",
    "print(2*9**0.5==6)\n",
    "print((2*9)**0.5==6)\n",
    "print(15==3 or False)\n",
    "print(15>3 and 15<=20)"
   ]
  },
  {
   "cell_type": "code",
   "execution_count": 9,
   "metadata": {},
   "outputs": [
    {
     "name": "stdout",
     "output_type": "stream",
     "text": [
      "True\n",
      "False\n",
      "False\n",
      "True\n"
     ]
    }
   ],
   "source": [
    "print('a' in 'Hola')\n",
    "print('z' in 'Hola')\n",
    "print('la' not in 'Hola')\n",
    "print('z' not in 'Hola')"
   ]
  },
  {
   "cell_type": "code",
   "execution_count": 10,
   "metadata": {},
   "outputs": [
    {
     "name": "stdout",
     "output_type": "stream",
     "text": [
      "31\n",
      "[31, 28, 31, 30, 31, 30, 31, 31, 30, 31, 30, 31]\n",
      "[]\n",
      "[2]\n",
      "[['cero', 0], ['uno', 1], ['dos', 2], ['tres', 3], ['cuatro', 4], ['X', 5]]\n",
      "['uno', 1]\n",
      "2\n",
      "cinco\n"
     ]
    }
   ],
   "source": [
    "#Listas\n",
    "\n",
    "lista=[31,28,31,30,31,30,31,31,30,31,30,31]\n",
    "print(lista[2])\n",
    "print(lista)\n",
    "\n",
    "lis=[]\n",
    "print(lis)\n",
    "lis.append(2)\n",
    "print(lis)\n",
    "\n",
    "#listas anidadas\n",
    "\n",
    "lista_numeros=[['cero',0],['uno',1],['dos',2],['tres',3],['cuatro',4],['X',5]]\n",
    "print(lista_numeros)\n",
    "print(lista_numeros[1])\n",
    "print(lista_numeros[2][1])\n",
    "lista_numeros[5][0]='cinco'\n",
    "print(lista_numeros[5][0])"
   ]
  },
  {
   "cell_type": "code",
   "execution_count": 11,
   "metadata": {},
   "outputs": [
    {
     "name": "stdout",
     "output_type": "stream",
     "text": [
      "Dame una cadena\n",
      "Hola\n",
      "La cadena es, Hola\n",
      "Introduce un entero: 89\n",
      "89\n",
      "Introduce un flotante: 9.2\n",
      "9.2\n"
     ]
    }
   ],
   "source": [
    "print(\"Dame una cadena\")\n",
    "cadena=input()\n",
    "print(\"La cadena es,\", cadena)\n",
    "\n",
    "entero = int(input(\"Introduce un entero: \"))\n",
    "print(entero)\n",
    "\n",
    "flotante = float(input(\"Introduce un flotante: \"))\n",
    "print(flotante)"
   ]
  },
  {
   "cell_type": "code",
   "execution_count": null,
   "metadata": {},
   "outputs": [],
   "source": []
  }
 ],
 "metadata": {
  "kernelspec": {
   "display_name": "Python 3",
   "language": "python",
   "name": "python3"
  },
  "language_info": {
   "codemirror_mode": {
    "name": "ipython",
    "version": 3
   },
   "file_extension": ".py",
   "mimetype": "text/x-python",
   "name": "python",
   "nbconvert_exporter": "python",
   "pygments_lexer": "ipython3",
   "version": "3.7.3"
  }
 },
 "nbformat": 4,
 "nbformat_minor": 2
}
